{
 "cells": [
  {
   "cell_type": "code",
   "execution_count": 1,
   "metadata": {},
   "outputs": [],
   "source": [
    "import numpy as np\n",
    "import numpy.polynomial.hermite_e as H\n",
    "from scipy.stats import norm\n",
    "from matplotlib import pyplot as plt\n",
    "from IPython.display import display\n",
    "%matplotlib inline"
   ]
  },
  {
   "cell_type": "code",
   "execution_count": 2,
   "metadata": {},
   "outputs": [],
   "source": [
    "def Herm(n):\n",
    "    coeffs=[0]*(n+1)\n",
    "    coeffs[n]=1\n",
    "    return coeffs\n",
    "\n",
    "def inner_product(h1,h2):\n",
    "    return lambda x: H.hermeval(x, H.hermemul(h1, h2))"
   ]
  },
  {
   "cell_type": "code",
   "execution_count": 3,
   "metadata": {},
   "outputs": [
    {
     "data": {
      "text/plain": [
       "'def trapezoid_int(f, a, b, n):\\n    h = float(b-a)/n\\n    result = 0.5*f(a) + 0.5*f(b)\\n    for i in range(1, n):\\n        result += f(a + i*h)\\n    result *= h\\n    return result'"
      ]
     },
     "execution_count": 3,
     "metadata": {},
     "output_type": "execute_result"
    }
   ],
   "source": [
    "def trapezoid_int(f,a,b,n=100):\n",
    "    P= [a+i*(b-a)/n for i in range(0,n+1)]\n",
    "    F= [1/2*np.abs(P[i+1] - P[i]) * (f(P[i+1]) + f(P[i])) for i in range(0,n)]\n",
    "    return sum(F)\n",
    "'''def trapezoid_int(f, a, b, n):\n",
    "    h = float(b-a)/n\n",
    "    result = 0.5*f(a) + 0.5*f(b)\n",
    "    for i in range(1, n):\n",
    "        result += f(a + i*h)\n",
    "    result *= h\n",
    "    return result'''"
   ]
  },
  {
   "cell_type": "code",
   "execution_count": 4,
   "metadata": {},
   "outputs": [],
   "source": [
    "def unif_icdf(params):\n",
    "    a=params[0]\n",
    "    b=params[1]\n",
    "    return lambda u:u * (b-a) + a\n",
    "\n",
    "def expo_icdf(params):\n",
    "    return lambda u: -np.log(1-u)\n",
    "\n",
    "def norm_icdf(params):\n",
    "    return lambda u: norm.ppf(u, loc=0, scale=1)"
   ]
  },
  {
   "cell_type": "code",
   "execution_count": 5,
   "metadata": {},
   "outputs": [],
   "source": [
    "def approximate_rv_coeffs(P, h):\n",
    "    ki= [0]*P\n",
    "    \n",
    "    #set up gauss hermite quadrature\n",
    "    m = P**2\n",
    "    x,w = H.hermegauss(m)\n",
    "    \n",
    "    #compute the coefficients\n",
    "    for i in range(0, P):\n",
    "        #compute inner product with gauss hermite quadrature\n",
    "        ip = sum([inner_product(Herm(i), Herm(i))(x[idx]) * w[idx] for idx in range(m)])\n",
    "        #compute the integral\n",
    "        integrand = lambda u: h(u) * H.hermeval(norm.ppf(u, loc=0, scale=1), Herm(i))\n",
    "        ki[i]=np.sqrt(2*np.pi) / ip* trapezoid_int(integrand, 0.001, 1-0.001, 1000)\n",
    "        \n",
    "    return ki"
   ]
  },
  {
   "cell_type": "code",
   "execution_count": 6,
   "metadata": {},
   "outputs": [],
   "source": [
    "def generate_rv(ki, S):\n",
    "    #build out k termwise\n",
    "    k= [0]*len(S)\n",
    "    for i in range(len(ki)):\n",
    "        k = np.add(k, ki[i]*H.hermeval(S, Herm(i)))\n",
    "    return k"
   ]
  },
  {
   "cell_type": "code",
   "execution_count": 7,
   "metadata": {},
   "outputs": [],
   "source": [
    "#generate a bunch of gaussian random variables to use\n",
    "N= 5000\n",
    "S=np.random.normal(loc=0, scale =1, size = N)"
   ]
  },
  {
   "cell_type": "code",
   "execution_count": 8,
   "metadata": {},
   "outputs": [
    {
     "data": {
      "image/png": "[encoded data removed]",
      "text/plain": [
       "<Figure size 432x288 with 1 Axes>"
      ]
     },
     "metadata": {
      "needs_background": "light"
     },
     "output_type": "display_data"
    }
   ],
   "source": [
    "h = unif_icdf([0,1])\n",
    "ki_uniform = approximate_rv_coeffs(13,h)\n",
    "k= generate_rv(ki_uniform, S)\n",
    "out = plt.hist(k, bins = 50)"
   ]
  },
  {
   "cell_type": "code",
   "execution_count": 9,
   "metadata": {},
   "outputs": [
    {
     "data": {
      "text/plain": [
       "[0.49900000000000033,\n",
       " 0.27875545086250536,\n",
       " -0.005128476292533232,\n",
       " -0.028199353280696664,\n",
       " -0.002759564058861633,\n",
       " 0.000764364827382998,\n",
       " -0.0001484500275905018,\n",
       " -5.2907946579614456e-05,\n",
       " 3.5672755268847944e-05,\n",
       " 1.2271595198380592e-05,\n",
       " -9.22603591818783e-07,\n",
       " -1.0430068763532303e-06,\n",
       " -1.4481037273579921e-07]"
      ]
     },
     "execution_count": 9,
     "metadata": {},
     "output_type": "execute_result"
    }
   ],
   "source": [
    "ki_uniform"
   ]
  },
  {
   "cell_type": "code",
   "execution_count": 10,
   "metadata": {},
   "outputs": [
    {
     "data": {
      "image/png": "[encoded data removed]",
      "text/plain": [
       "<Figure size 432x288 with 1 Axes>"
      ]
     },
     "metadata": {
      "needs_background": "light"
     },
     "output_type": "display_data"
    }
   ],
   "source": [
    "h = expo_icdf([0,1])\n",
    "ki_expo = approximate_rv_coeffs(2,h)\n",
    "k_expo = generate_rv(ki_expo, S)\n",
    "out = plt.hist(k_expo, bins = 50)"
   ]
  },
  {
   "cell_type": "code",
   "execution_count": 11,
   "metadata": {},
   "outputs": [],
   "source": [
    "#fourth order runga kutta method to solve a differential equation\n",
    "def RK4(f, ic, tspan, h):\n",
    "    t= [x * h for x in range(int((max(tspan) - min(tspan)) /h) + 1)]\n",
    "    y= [ic]\n",
    "    h2 = h/2\n",
    "    for i in range(0,len(t)-1):\n",
    "        y1 = f(t[i], y[i])\n",
    "        y2 = f(t[i]+ h2, y[i] + np.multiply(h2, y1))\n",
    "        y3 = f(t[i]+ h2, y[i] + np.multiply(h2, y2))\n",
    "        y4 = f(t[i] + h, y[i] + np.multiply(h, y3))\n",
    "        y.append( y[i] + np.multiply( h/6 , y1 + y4 + np.multiply(2, y2 + y3)))\n",
    "    return t,y"
   ]
  },
  {
   "cell_type": "code",
   "execution_count": 12,
   "metadata": {},
   "outputs": [
    {
     "name": "stderr",
     "output_type": "stream",
     "text": [
      "C:\\Users\\admin\\anaconda3\\lib\\site-packages\\ipykernel_launcher.py:7: DeprecationWarning: np.asscalar(a) is deprecated since NumPy v1.16, use a.item() instead\n",
      "  import sys\n"
     ]
    },
    {
     "data": {
      "text/plain": [
       "[<matplotlib.lines.Line2D at 0x2720e76c408>]"
      ]
     },
     "execution_count": 12,
     "metadata": {},
     "output_type": "execute_result"
    },
    {
     "data": {
      "image/png": "[encoded data removed]",
      "text/plain": [
       "<Figure size 432x288 with 1 Axes>"
      ]
     },
     "metadata": {
      "needs_background": "light"
     },
     "output_type": "display_data"
    }
   ],
   "source": [
    "#Solving dy(k;t)/dt = -ky(k;t)\n",
    "k=1 # for a specific k, we can easily solve as below\n",
    "A = np.matrix([[-k]])\n",
    "ode = lambda t, x : A * x\n",
    "ic = np.matrix([1])\n",
    "t,y = RK4(ode, ic, [0,10], 0.1)\n",
    "y1 = [np.asscalar(x) for x in y]\n",
    "plt.plot(t,y1)"
   ]
  },
  {
   "cell_type": "markdown",
   "metadata": {},
   "source": [
    "### But in above equation k is a random (unknown) parameter. Lets suppose k be a random parameter with support S and pdf f(k) and mean of k_bar. So average output (y_bar) can be written as y0*integral of(f(k)*exp(-kt)). This can be solved by using monte carlo method"
   ]
  },
  {
   "cell_type": "markdown",
   "metadata": {},
   "source": [
    "# Monte Carlo Method"
   ]
  },
  {
   "cell_type": "code",
   "execution_count": 13,
   "metadata": {},
   "outputs": [
    {
     "name": "stderr",
     "output_type": "stream",
     "text": [
      "C:\\Users\\admin\\anaconda3\\lib\\site-packages\\ipykernel_launcher.py:8: DeprecationWarning: np.asscalar(a) is deprecated since NumPy v1.16, use a.item() instead\n",
      "  \n"
     ]
    },
    {
     "data": {
      "text/plain": [
       "[<matplotlib.lines.Line2D at 0x2720e581ec8>]"
      ]
     },
     "execution_count": 13,
     "metadata": {},
     "output_type": "execute_result"
    },
    {
     "data": {
      "image/png": "[encoded data removed]",
      "text/plain": [
       "<Figure size 432x288 with 1 Axes>"
      ]
     },
     "metadata": {
      "needs_background": "light"
     },
     "output_type": "display_data"
    }
   ],
   "source": [
    "#monte carlo simulation\n",
    "y_dmc = []\n",
    "for k in range(1000):\n",
    "    B = np.matrix([[-np.random.uniform(0,1)]])\n",
    "    icb = np.matrix([1])\n",
    "    odeb = lambda t,x: B*x\n",
    "    t,y = RK4(odeb, icb, [0,10], 0.01)\n",
    "    y_dmc.append([np.asscalar(x) for x in y])\n",
    "    \n",
    "plt.plot(t, np.mean(y_dmc, axis = 0))\n",
    "plt.plot(t, np.percentile(y_dmc, axis = 0, q = 95))\n",
    "plt.plot(t, np.percentile(y_dmc, axis = 0, q = 5))\n",
    "\n",
    "# Taking a lot of time to execute (around 1 min)"
   ]
  },
  {
   "cell_type": "code",
   "execution_count": 14,
   "metadata": {},
   "outputs": [
    {
     "name": "stderr",
     "output_type": "stream",
     "text": [
      "C:\\Users\\admin\\anaconda3\\lib\\site-packages\\ipykernel_launcher.py:7: DeprecationWarning: np.asscalar(a) is deprecated since NumPy v1.16, use a.item() instead\n",
      "  import sys\n"
     ]
    },
    {
     "data": {
      "text/plain": [
       "<matplotlib.legend.Legend at 0x272116b5848>"
      ]
     },
     "execution_count": 14,
     "metadata": {},
     "output_type": "execute_result"
    },
    {
     "data": {
      "image/png": "[encoded data removed]",
      "text/plain": [
       "<Figure size 432x288 with 1 Axes>"
      ]
     },
     "metadata": {
      "needs_background": "light"
     },
     "output_type": "display_data"
    }
   ],
   "source": [
    "#comparison between stochastic mean and deterministic mean\n",
    "plt.plot(t, np.mean(y_dmc, axis = 0),label=\"monte carlo\")\n",
    "B = np.matrix([[-0.5]])\n",
    "icb = np.matrix([1])\n",
    "odeb = lambda t,x: B*x\n",
    "t,y = RK4(odeb, icb, [0,10], 0.01)\n",
    "y_detmean = [np.asscalar(x) for x in y]\n",
    "plt.plot(t, y_detmean, 'r--',label = \"deterministic mean\")\n",
    "plt.legend(loc=\"upper right\")"
   ]
  },
  {
   "cell_type": "markdown",
   "metadata": {},
   "source": [
    "# Polynomial Chaos Expansion"
   ]
  },
  {
   "cell_type": "code",
   "execution_count": 15,
   "metadata": {},
   "outputs": [],
   "source": [
    "def triple_product(h1, h2, h3):\n",
    "    return lambda x: H.hermeval(x, H.hermemul(h1, H.hermemul(h2, h3)))"
   ]
  },
  {
   "cell_type": "code",
   "execution_count": 16,
   "metadata": {},
   "outputs": [],
   "source": [
    "P = 5\n",
    "A = np.matrix(np.zeros((P,P)))\n",
    "m = P**3\n",
    "x,w = H.hermegauss(m)\n",
    "\n",
    "for l in range(P):\n",
    "    ip = sum([inner_product(Herm(l), Herm(l))(x[idx]) * w[idx] for idx in range(m)])\n",
    "    for j in range(P):\n",
    "        for i in range(P):\n",
    "            tp = sum([triple_product(Herm(i), Herm(j), Herm(l)) (x[idx]) * w[idx] for idx in range(m)])\n",
    "            A[j,l] += -1 / ip * tp * ki_uniform[i]\n",
    "ode = lambda t,x: A*x\n",
    "ic = np.matrix(np.zeros((P,1)))\n",
    "ic[0] = 1\n",
    "t, y = RK4(ode, ic, [0,10], 0.01)\n",
    "# working much faster (aroung 3-4 seconds)"
   ]
  },
  {
   "cell_type": "code",
   "execution_count": 17,
   "metadata": {},
   "outputs": [
    {
     "data": {
      "text/plain": [
       "<matplotlib.legend.Legend at 0x272116cab08>"
      ]
     },
     "execution_count": 17,
     "metadata": {},
     "output_type": "execute_result"
    },
    {
     "data": {
      "image/png": "[encoded data removed]",
      "text/plain": [
       "<Figure size 432x288 with 1 Axes>"
      ]
     },
     "metadata": {
      "needs_background": "light"
     },
     "output_type": "display_data"
    }
   ],
   "source": [
    "plt.plot(t, np.mean(y_dmc, axis = 0), 'b-', label=\"Monte Carlo\")\n",
    "plt.plot(t, np.mean(y_dmc, axis =0) + 3*np.var(y_dmc, axis = 0), 'g-')\n",
    "plt.plot(t, np.mean(y_dmc, axis =0) - 3*np.var(y_dmc, axis = 0), 'r-')\n",
    "\n",
    "y_pc_mean = [x[0,0] for x in y]\n",
    "y_pc_var = [x[1,0]**2 for x in y]\n",
    "\n",
    "plt.plot(t, y_pc_mean, 'b--',label=\"PCE\")\n",
    "plt.plot(t, np.add(y_pc_mean, np.multiply(3, y_pc_var)), 'g--')\n",
    "plt.plot(t, np.add(y_pc_mean, np.multiply(-3, y_pc_var)), 'r--')\n",
    "plt.legend(loc=\"upper right\")\n"
   ]
  },
  {
   "cell_type": "markdown",
   "metadata": {},
   "source": [
    "## As we can see solution by PCE is very close to monte carlo solution (middle one). Monte Carlo simulation took around 1 min of time while PCE took 3 seconds to arrive at the same solution."
   ]
  },
  {
   "cell_type": "code",
   "execution_count": null,
   "metadata": {},
   "outputs": [],
   "source": []
  }
 ],
 "metadata": {
  "kernelspec": {
   "display_name": "Python 3",
   "language": "python",
   "name": "python3"
  },
  "language_info": {
   "codemirror_mode": {
    "name": "ipython",
    "version": 3
   },
   "file_extension": ".py",
   "mimetype": "text/x-python",
   "name": "python",
   "nbconvert_exporter": "python",
   "pygments_lexer": "ipython3",
   "version": "3.7.6"
  }
 },
 "nbformat": 4,
 "nbformat_minor": 4
}
